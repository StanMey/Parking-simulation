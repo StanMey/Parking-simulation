{
 "cells": [
  {
   "cell_type": "markdown",
   "metadata": {},
   "source": [
    "# Parking Simulator\n",
    "In this simulation we simulate a parking garage nearby a supermarket.\n",
    "- https://www.centrumparkeren.nl/hilversum/parkeergarages/gooiland\n",
    "- https://www.google.com/search?q=albert+heijn+gooialdn&oq=albert+heijn+gooialdn&aqs=chrome..69i57j0l2.13159j0j4&sourceid=chrome&ie=UTF-8\n"
   ]
  },
  {
   "cell_type": "code",
   "execution_count": null,
   "metadata": {},
   "outputs": [],
   "source": [
    "import simpy\n",
    "import random\n",
    "import numpy as np\n",
    "import matplotlib.pyplot as plt\n",
    "plt.style.use('ggplot')\n",
    "%matplotlib inline"
   ]
  },
  {
   "cell_type": "markdown",
   "metadata": {},
   "source": [
    "## CONSTANTinople\n",
    "The birthplace of the constants"
   ]
  },
  {
   "cell_type": "code",
   "execution_count": null,
   "metadata": {},
   "outputs": [],
   "source": [
    "RANDOM_SEED = 42\n",
    "SIM_TIME = 24 * 60\n",
    "\n",
    "# The day hours\n",
    "DAY_MIN = 8 * 60\n",
    "DAY_MAX = 18 * 60\n",
    "\n",
    "# MINUTE rate\n",
    "MINUTE_RATE = 0.2 / 5\n",
    "\n",
    "# Max price day\n",
    "DAY_PRICE = 8\n",
    "# Max price night\n",
    "NIGHT_PRICE = 5\n",
    "\n",
    "# The peak hours\n",
    "PEAK_MIN = 15 * 60   # 15:00\n",
    "PEAK_MAX = 20 * 60   # 20:00\n",
    "\n",
    "# The maximum capacity of the garage\n",
    "MAX_CAPACITY = 364\n",
    "\n",
    "# Constants for the amount of time a car is parked\n",
    "MIN_CAR_PARK_TIME = 1\n",
    "MAX_CAR_PARK_TIME = 60\n",
    "\n",
    "# Constants for finding a spot\n",
    "MIN_FINDING_SPOT = 1\n",
    "MAX_FINDING_SPOT = 5\n",
    "\n",
    "# Constants for exiting the garage\n",
    "MIN_EXITING_TIME = 1\n",
    "MAX_EXITING_TIME = 3"
   ]
  },
  {
   "cell_type": "code",
   "execution_count": null,
   "metadata": {},
   "outputs": [],
   "source": [
    "class Garage(object):\n",
    "    def __init__(self, env, max_spots=MAX_CAPACITY):\n",
    "        self.env = env\n",
    "        self.spots = simpy.Resource(env, max_spots)\n",
    "        self.taken_spots = []\n",
    "        self.timestamps = []\n",
    "        \n",
    "        # Process simulation events\n",
    "        self.env.process(self.process())\n",
    "        # Run the simulation\n",
    "        self.env.run(until=SIM_TIME)\n",
    "    \n",
    "    def spot_queue(self):\n",
    "        \"\"\"Returns tuple with timestamp and amount of taken parking spots\"\"\"\n",
    "        time = self.env.now\n",
    "        queue = len(self.spots.users)\n",
    "        self.taken_spots.append((time, queue))\n",
    "        \n",
    "        \n",
    "    def car(self, name):\n",
    "        \"\"\"Details behaviour of a car\"\"\"\n",
    "        time_of_arrival = self.env.now\n",
    "\n",
    "        # Request one of the Garage's parking spots\n",
    "        print('%s arriving at %d' % (name, self.env.now))\n",
    "        with self.spots.request() as req:\n",
    "            yield req\n",
    "\n",
    "            time_of_assignment = self.env.now\n",
    "\n",
    "            # Find spot\n",
    "            print('%s finding parking spot %s' % (name, self.env.now))\n",
    "            yield self.env.timeout(nrml_dist(MIN_FINDING_SPOT, MAX_FINDING_SPOT))\n",
    "\n",
    "            # Park car\n",
    "            print('%s starting to park %s' % (name, self.env.now))\n",
    "            yield self.env.timeout(nrml_dist(MIN_CAR_PARK_TIME, MAX_CAR_PARK_TIME))\n",
    "\n",
    "            # Leaving garage\n",
    "            print('%s starting to leave %s' % (name, self.env.now))\n",
    "            yield self.env.timeout(nrml_dist(MIN_EXITING_TIME, MAX_EXITING_TIME))\n",
    "\n",
    "            # Left garage\n",
    "            time_of_departure = self.env.now\n",
    "            print('%s left %s' % (name, time_of_departure))\n",
    "\n",
    "            # Append collected timestamps to self.timestamps\n",
    "            self.timestamps.append((time_of_arrival, time_of_assignment, time_of_departure))\n",
    "            \n",
    "    def process(self):\n",
    "        \"\"\"\"\"\"\n",
    "        time_now = 0\n",
    "        car_numb = 0\n",
    "        \n",
    "        while True:\n",
    "        \n",
    "            yield self.env.timeout(1)\n",
    "\n",
    "            if (PEAK_MIN <= time_now <= PEAK_MAX):\n",
    "                total_new_cars = new_cars_amount(True)\n",
    "            else:\n",
    "                total_new_cars = new_cars_amount(False)\n",
    "#             Why time_now and not self.env.now?\n",
    "            time_now += 1\n",
    "\n",
    "            for i in range(total_new_cars):\n",
    "                self.env.process(self.car(car_numb))\n",
    "                car_numb += 1\n",
    "            self.spot_queue()"
   ]
  },
  {
   "cell_type": "code",
   "execution_count": null,
   "metadata": {
    "scrolled": true
   },
   "outputs": [],
   "source": [
    "def nrml_dist(min_, max_):\n",
    "    \"\"\"The function takes a minimal and maximal number and generates a number based on normal distribution\"\"\"\n",
    "    mu = (max_ + min_) / 2\n",
    "    sigma = mu / 3\n",
    "    \n",
    "    rd_numb = random.normalvariate(mu, sigma)\n",
    "    \n",
    "    if (rd_numb < min_):\n",
    "        rd_numb = min_\n",
    "    if (rd_numb > max_):\n",
    "        rd_numb = max_\n",
    "    \n",
    "    return round(rd_numb)"
   ]
  },
  {
   "cell_type": "code",
   "execution_count": null,
   "metadata": {},
   "outputs": [],
   "source": [
    "def new_cars_amount(is_peak):\n",
    "    \"\"\"Returns amount of cars based on is_peak\"\"\"\n",
    "    \n",
    "    total_cars = 0\n",
    "    \n",
    "    if is_peak:\n",
    "        total_cars = 2\n",
    "    else:\n",
    "        total_cars = 1\n",
    "        \n",
    "    return total_cars"
   ]
  },
  {
   "cell_type": "code",
   "execution_count": null,
   "metadata": {},
   "outputs": [],
   "source": [
    "def calc_price(ToA, ToD):\n",
    "    \"\"\"Calculates price based on: ToA: time of assignment, ToD: time of departure\"\"\"\n",
    "    delta_t = abs(ToD - ToA)\n",
    "    if DAY_MIN < ToA < DAY_MAX: \n",
    "    # Price inside the day interval\n",
    "        price = delta_t * MINUTE_RATE\n",
    "        if price > DAY_PRICE:\n",
    "            price = DAY_PRICE\n",
    "    else:\n",
    "    # Price outside the day interval\n",
    "        price = delta_t * MINUTE_RATE\n",
    "        if price > NIGHT_PRICE:\n",
    "            price = NIGHT_PRICE\n",
    "    \n",
    "    return round(price, 2)"
   ]
  },
  {
   "cell_type": "code",
   "execution_count": null,
   "metadata": {
    "scrolled": true
   },
   "outputs": [],
   "source": [
    "# For repeatability of the simulation we have chosen a random seed\n",
    "random.seed(RANDOM_SEED)\n",
    "\n",
    "# Create the environment\n",
    "env = simpy.Environment()\n",
    "garage = Garage(env)\n",
    "\n",
    "data = garage.timestamps\n",
    "taken_spots = garage.taken_spots"
   ]
  },
  {
   "cell_type": "markdown",
   "metadata": {},
   "source": [
    "## Analysing the simulation"
   ]
  },
  {
   "cell_type": "code",
   "execution_count": null,
   "metadata": {},
   "outputs": [],
   "source": [
    "received_money = list(map(lambda x : calc_price(x[1], x[2]), data))\n",
    "print(\"total money received: {0}\".format(round(sum(received_money), 2)))"
   ]
  },
  {
   "cell_type": "code",
   "execution_count": null,
   "metadata": {},
   "outputs": [],
   "source": [
    "car_waiting_time = list(map(lambda x : abs(x[1] - x[0]), data))\n",
    "# car_waiting_time"
   ]
  },
  {
   "cell_type": "code",
   "execution_count": null,
   "metadata": {},
   "outputs": [],
   "source": [
    "car_parking_time = list(map(lambda x : abs(x[2] - x[1]), data))\n",
    "# car_parking_time"
   ]
  },
  {
   "cell_type": "code",
   "execution_count": null,
   "metadata": {},
   "outputs": [],
   "source": [
    "park_times = []\n",
    "\n",
    "for i in range(1000):\n",
    "    park_times.append(nrml_dist(MIN_CAR_PARK_TIME, MAX_CAR_PARK_TIME))\n",
    "\n",
    "park_times.sort()\n",
    "plt.hist(park_times)\n",
    "plt.xlabel(\"Frequency\")\n",
    "plt.ylabel(\"Parking duration\")\n",
    "plt.show()"
   ]
  },
  {
   "cell_type": "code",
   "execution_count": null,
   "metadata": {},
   "outputs": [],
   "source": [
    "taken_spots = np.array(taken_spots).T\n",
    "plt.plot(taken_spots[0], taken_spots[1])\n",
    "plt.xlabel(\"Time in minutes\")\n",
    "plt.ylabel(\"Used spots\")\n",
    "plt.ylim(0, MAX_CAPACITY)\n",
    "plt.show()"
   ]
  }
 ],
 "metadata": {
  "kernelspec": {
   "display_name": "Python 3",
   "language": "python",
   "name": "python3"
  },
  "language_info": {
   "codemirror_mode": {
    "name": "ipython",
    "version": 3
   },
   "file_extension": ".py",
   "mimetype": "text/x-python",
   "name": "python",
   "nbconvert_exporter": "python",
   "pygments_lexer": "ipython3",
   "version": "3.7.3"
  }
 },
 "nbformat": 4,
 "nbformat_minor": 2
}
