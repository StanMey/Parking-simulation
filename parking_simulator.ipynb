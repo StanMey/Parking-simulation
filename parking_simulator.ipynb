{
 "cells": [
  {
   "cell_type": "markdown",
   "metadata": {},
   "source": [
    "# Parking Simulator"
   ]
  },
  {
   "cell_type": "code",
   "execution_count": 1,
   "metadata": {},
   "outputs": [],
   "source": [
    "import simpy\n",
    "import random\n",
    "\n",
    "RANDOM_SEED = 42\n",
    "SIM_TIME = 24 * 60\n",
    "\n",
    "MAX_CAPACITY = 1\n",
    "\n",
    "MIN_CAR_PARK_TIME = 10\n",
    "MAX_CAR_PARK_TIME = 120\n",
    "\n",
    "MIN_FINDING_SPOT = 1\n",
    "MAX_FINDING_SPOT = 10\n",
    "EXITING_TIME = 4"
   ]
  },
  {
   "cell_type": "code",
   "execution_count": 2,
   "metadata": {
    "scrolled": true
   },
   "outputs": [],
   "source": [
    "def nrml_dist(min_, max_):\n",
    "    mu = (max_ + min_) / 2\n",
    "    sigma = mu / 3\n",
    "    \n",
    "    rd_numb = random.normalvariate(mu, sigma)\n",
    "    \n",
    "    if (rd_numb < min_):\n",
    "        rd_numb = min_\n",
    "    if (rd_numb > max_):\n",
    "        rd_numb = max_\n",
    "    \n",
    "    return round(rd_numb)\n",
    "\n",
    "# for i in range(50):\n",
    "#     print(nrml_dist(MIN_FINDING_SPOT, MAX_FINDING_SPOT))"
   ]
  },
  {
   "cell_type": "code",
   "execution_count": 3,
   "metadata": {},
   "outputs": [
    {
     "data": {
      "image/png": "[encoded data removed]",
      "text/plain": [
       "<Figure size 432x288 with 1 Axes>"
      ]
     },
     "metadata": {
      "needs_background": "light"
     },
     "output_type": "display_data"
    }
   ],
   "source": [
    "import matplotlib.pyplot as plt\n",
    "%matplotlib inline\n",
    "park_times = []\n",
    "\n",
    "for i in range(1000):\n",
    "    park_times.append(nrml_dist(MIN_CAR_PARK_TIME, MAX_CAR_PARK_TIME))\n",
    "\n",
    "park_times.sort()\n",
    "plt.hist(park_times)\n",
    "plt.show()"
   ]
  },
  {
   "cell_type": "code",
   "execution_count": 4,
   "metadata": {},
   "outputs": [],
   "source": [
    "class Garage(object):\n",
    "    def __init__(self, env, max_spots=MAX_CAPACITY):\n",
    "        self.env = env\n",
    "        self.spots = simpy.Resource(env, max_spots)"
   ]
  },
  {
   "cell_type": "code",
   "execution_count": 5,
   "metadata": {},
   "outputs": [],
   "source": [
    "def car(env, name, garage):\n",
    "        \n",
    "    # Request one of its charging spots\n",
    "    print('%s arriving at %d' % (name, env.now))\n",
    "    with garage.spots.request() as req:\n",
    "        yield req\n",
    "        # Find spot\n",
    "        print('%s finding parking spot %s' % (name, env.now))\n",
    "        yield env.timeout(nrml_dist(MIN_FINDING_SPOT, MAX_FINDING_SPOT))\n",
    "\n",
    "        # Park car\n",
    "        print('%s starting to park %s' % (name, env.now))\n",
    "        yield env.timeout(nrml_dist(MIN_CAR_PARK_TIME, MAX_CAR_PARK_TIME))\n",
    "        print('%s leaving the parking spot %s' % (name, env.now))\n",
    "        \n",
    "        # Leaving garage\n",
    "        print('%s starting to leave %s' % (name, env.now))\n",
    "        yield env.timeout(EXITING_TIME)\n",
    "        print('%s left %s' % (name, env.now))\n",
    "        "
   ]
  },
  {
   "cell_type": "code",
   "execution_count": 6,
   "metadata": {
    "scrolled": true
   },
   "outputs": [
    {
     "name": "stdout",
     "output_type": "stream",
     "text": [
      "0 arriving at 0\n",
      "1 arriving at 0\n",
      "2 arriving at 0\n",
      "3 arriving at 0\n",
      "4 arriving at 0\n",
      "0 finding parking spot 0\n",
      "0 starting to park 6\n",
      "0 leaving the parking spot 60\n",
      "0 starting to leave 60\n",
      "0 left 64\n",
      "1 finding parking spot 64\n",
      "1 starting to park 72\n",
      "1 leaving the parking spot 134\n",
      "1 starting to leave 134\n",
      "1 left 138\n",
      "2 finding parking spot 138\n",
      "2 starting to park 142\n",
      "2 leaving the parking spot 219\n",
      "2 starting to leave 219\n",
      "2 left 223\n",
      "3 finding parking spot 223\n",
      "3 starting to park 226\n",
      "3 leaving the parking spot 329\n",
      "3 starting to leave 329\n",
      "3 left 333\n",
      "4 finding parking spot 333\n",
      "4 starting to park 338\n",
      "4 leaving the parking spot 429\n",
      "4 starting to leave 429\n",
      "4 left 433\n"
     ]
    }
   ],
   "source": [
    "def main():\n",
    "    random.seed(RANDOM_SEED)\n",
    "    \n",
    "    env = simpy.Environment()\n",
    "    \n",
    "    garage = Garage(env)\n",
    "    \n",
    "    for i in range(0, 5):\n",
    "        env.process(car(env, i, garage))\n",
    "\n",
    "    env.run(until=SIM_TIME)\n",
    "\n",
    "\n",
    "main()"
   ]
  },
  {
   "cell_type": "code",
   "execution_count": null,
   "metadata": {},
   "outputs": [],
   "source": []
  }
 ],
 "metadata": {
  "kernelspec": {
   "display_name": "Python 3",
   "language": "python",
   "name": "python3"
  },
  "language_info": {
   "codemirror_mode": {
    "name": "ipython",
    "version": 3
   },
   "file_extension": ".py",
   "mimetype": "text/x-python",
   "name": "python",
   "nbconvert_exporter": "python",
   "pygments_lexer": "ipython3",
   "version": "3.6.7"
  }
 },
 "nbformat": 4,
 "nbformat_minor": 2
}
