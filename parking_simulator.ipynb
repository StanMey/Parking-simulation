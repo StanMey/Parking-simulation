{
 "cells": [
  {
   "cell_type": "markdown",
   "metadata": {},
   "source": [
    "# Parkeer garage simulator"
   ]
  },
  {
   "cell_type": "code",
   "execution_count": 11,
   "metadata": {},
   "outputs": [],
   "source": [
    "import simpy\n",
    "\n",
    "RANDOM_SEED = 42\n",
    "SIM_TIME = 60\n",
    "\n",
    "MAX_CAPACITY = 1\n",
    "MIN_CAR_PARK_TIME = 10\n",
    "MAX_CAR_PARK_TIME = 120"
   ]
  },
  {
   "cell_type": "code",
   "execution_count": 12,
   "metadata": {},
   "outputs": [],
   "source": [
    "class Garage(object):\n",
    "    def __init__(self, env, max_spots=MAX_CAPACITY):\n",
    "        self.env = env\n",
    "        self.spots = simpy.Resource(env, max_spots)"
   ]
  },
  {
   "cell_type": "code",
   "execution_count": 13,
   "metadata": {},
   "outputs": [],
   "source": [
    "def car(env, name, garage):\n",
    "        \n",
    "    # Request one of its charging spots\n",
    "    print('%s arriving at %d' % (name, env.now))\n",
    "    with garage.spots.request() as req:\n",
    "        yield req\n",
    "\n",
    "        # Park car\n",
    "        print('%s starting to park %s' % (name, env.now))\n",
    "        yield env.timeout(CAR_PARK_TIME)\n",
    "        print('%s leaving the parking spot %s' % (name, env.now))"
   ]
  },
  {
   "cell_type": "code",
   "execution_count": 14,
   "metadata": {},
   "outputs": [
    {
     "name": "stdout",
     "output_type": "stream",
     "text": [
      "0 arriving at 0\n",
      "1 arriving at 0\n",
      "2 arriving at 0\n",
      "3 arriving at 0\n",
      "0 starting to park 0\n",
      "0 leaving the parking spot 10\n",
      "1 starting to park 10\n",
      "1 leaving the parking spot 20\n",
      "2 starting to park 20\n",
      "2 leaving the parking spot 30\n",
      "3 starting to park 30\n",
      "3 leaving the parking spot 40\n"
     ]
    }
   ],
   "source": [
    "def main():\n",
    "    env = simpy.Environment()\n",
    "    \n",
    "    garage = Garage(env)\n",
    "    \n",
    "    for i in range(0, 4):\n",
    "        env.process(car(env, i, garage))\n",
    "\n",
    "    env.run(until=SIM_TIME)\n",
    "\n",
    "\n",
    "main()"
   ]
  },
  {
   "cell_type": "code",
   "execution_count": null,
   "metadata": {},
   "outputs": [],
   "source": []
  }
 ],
 "metadata": {
  "kernelspec": {
   "display_name": "Python 3",
   "language": "python",
   "name": "python3"
  },
  "language_info": {
   "codemirror_mode": {
    "name": "ipython",
    "version": 3
   },
   "file_extension": ".py",
   "mimetype": "text/x-python",
   "name": "python",
   "nbconvert_exporter": "python",
   "pygments_lexer": "ipython3",
   "version": "3.6.7"
  }
 },
 "nbformat": 4,
 "nbformat_minor": 2
}
